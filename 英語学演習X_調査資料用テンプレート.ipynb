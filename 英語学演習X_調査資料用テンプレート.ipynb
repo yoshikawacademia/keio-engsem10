{
  "nbformat": 4,
  "nbformat_minor": 0,
  "metadata": {
    "colab": {
      "provenance": [],
      "authorship_tag": "ABX9TyPPicKEKKpfbOhThQ2sp4Br",
      "include_colab_link": true
    },
    "kernelspec": {
      "name": "python3",
      "display_name": "Python 3"
    },
    "language_info": {
      "name": "python"
    }
  },
  "cells": [
    {
      "cell_type": "markdown",
      "metadata": {
        "id": "view-in-github",
        "colab_type": "text"
      },
      "source": [
        "<a href=\"https://colab.research.google.com/github/yoshikawacademia/keio-engsem10/blob/main/%E8%8B%B1%E8%AA%9E%E5%AD%A6%E6%BC%94%E7%BF%92X_%E8%AA%BF%E6%9F%BB%E8%B3%87%E6%96%99%E7%94%A8%E3%83%86%E3%83%B3%E3%83%97%E3%83%AC%E3%83%BC%E3%83%88.ipynb\" target=\"_parent\"><img src=\"https://colab.research.google.com/assets/colab-badge.svg\" alt=\"Open In Colab\"/></a>"
      ]
    },
    {
      "cell_type": "markdown",
      "source": [
        "# 英語学演習X 調査資料\n",
        "## トピック名\n",
        "### 担当者氏名"
      ],
      "metadata": {
        "id": "dJW7Eoz86FyR"
      }
    },
    {
      "cell_type": "markdown",
      "source": [
        "# 見出し1\n",
        "## 見出し2\n",
        "(こんな感じで見出しを作っておくと分かりやすい)"
      ],
      "metadata": {
        "id": "TbDfE8YK6626"
      }
    },
    {
      "cell_type": "code",
      "source": [
        "# コードとコメントによる解説の例\n",
        "# import 文を使用して pandas モジュールを import (慣例で as を用いて名前を pd とする)\n",
        "import pandas as pd"
      ],
      "metadata": {
        "id": "XLH3-pYjgCK5"
      },
      "execution_count": null,
      "outputs": []
    }
  ]
}