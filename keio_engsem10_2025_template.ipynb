{
  "nbformat": 4,
  "nbformat_minor": 0,
  "metadata": {
    "colab": {
      "provenance": []
    },
    "kernelspec": {
      "name": "python3",
      "display_name": "Python 3"
    },
    "language_info": {
      "name": "python"
    }
  },
  "cells": [
    {
      "cell_type": "markdown",
      "source": [
        "# 英語学演習X 調査資料\n",
        "## トピック名\n",
        "### 担当者氏名"
      ],
      "metadata": {
        "id": "dJW7Eoz86FyR"
      }
    },
    {
      "cell_type": "markdown",
      "source": [
        "# 見出し1\n",
        "## 見出し2\n",
        "(こんな感じで見出しを作っておくと分かりやすい)"
      ],
      "metadata": {
        "id": "TbDfE8YK6626"
      }
    },
    {
      "cell_type": "code",
      "source": [
        "# コードとコメントによる解説の例\n",
        "# import 文を使用して pandas モジュールを import (慣例で as を用いて名前を pd とする)\n",
        "import pandas as pd"
      ],
      "metadata": {
        "id": "XLH3-pYjgCK5"
      },
      "execution_count": null,
      "outputs": []
    }
  ]
}